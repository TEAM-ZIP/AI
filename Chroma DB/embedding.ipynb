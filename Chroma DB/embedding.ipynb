{
 "cells": [
  {
   "cell_type": "code",
   "execution_count": null,
   "metadata": {
    "vscode": {
     "languageId": "plaintext"
    }
   },
   "outputs": [],
   "source": [
    "from sentence_transformers import SentenceTransformer\n",
    "import chromadb\n",
    "\n",
    "# 모델 및 클라이언트 초기화\n",
    "model = SentenceTransformer('all-MiniLM-L6-v2')\n",
    "client = chromadb.PersistentClient()\n",
    "\n",
    "# 기존 컬렉션 삭제 후 생성\n",
    "if \"crawled_data\" in [col.name for col in client.list_collections()]:\n",
    "    client.delete_collection(name=\"crawled_data\")\n",
    "collection = client.create_collection(name=\"crawled_data\")\n",
    "\n",
    "# 문서 데이터 추가 - 상세 설명 포함(예시 데이터)\n",
    "documents = [\n",
    "    \"K-패스(구. 알뜰교통카드) - 저소득 청년 대상 교통비 할인 지원 프로그램\",\n",
    "    \"청년도약계좌 - 청년 대상 저축 장려 프로그램으로, 매칭 지원을 통해 저축을 돕습니다.\",\n",
    "    \"무료소송지원 - 법적 어려움이 있는 청년들을 위한 무료 소송 지원 서비스\",\n",
    "    \"서울 고립, 은둔 청년 지원 프로그램 - 고립된 청년들에게 사회 복귀 지원을 제공하는 프로그램\",\n",
    "]\n",
    "\n",
    "# 임베딩 생성 및 데이터베이스에 저장\n",
    "for idx, doc in enumerate(documents):\n",
    "    embedding = model.encode([doc])[0]\n",
    "    collection.add(\n",
    "        documents=[doc],\n",
    "        embeddings=[embedding],\n",
    "        ids=[f\"doc_{idx+1}\"]\n",
    "    )\n",
    "\n",
    "print(\"데이터 저장이 완료되었습니다.\")"
   ]
  }
 ],
 "metadata": {
  "language_info": {
   "name": "python"
  }
 },
 "nbformat": 4,
 "nbformat_minor": 2
}
