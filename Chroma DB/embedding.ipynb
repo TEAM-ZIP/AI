{
 "cells": [
  {
   "cell_type": "code",
   "execution_count": null,
   "metadata": {
    "vscode": {
     "languageId": "plaintext"
    }
   },
   "outputs": [],
   "source": [
    "import os\n",
    "from sentence_transformers import SentenceTransformer\n",
    "import chromadb\n",
    "import openai\n",
    "\n",
    "# OpenAI API 키 설정\n",
    "openai.api_key = \"YOUR_API_KEY\"  # 실제 API 키로 대체\n",
    "\n",
    "# 모델 및 클라이언트 초기화\n",
    "model = SentenceTransformer('all-MiniLM-L6-v2')\n",
    "client = chromadb.PersistentClient()\n",
    "\n",
    "# 기존 컬렉션 삭제 후 생성\n",
    "if \"crawled_data\" in [col.name for col in client.list_collections()]:\n",
    "    client.delete_collection(name=\"crawled_data\")\n",
    "collection = client.create_collection(name=\"crawled_data\")\n",
    "\n",
    "# 현재 디렉토리 내 모든 .txt 파일 찾기\n",
    "# 밑에 경로 수정\n",
    "txt_files = [file for file in os.listdir('/content') if file.endswith('.txt')]\n",
    "\n",
    "# 라벨링 함수\n",
    "def label_document(content):\n",
    "    try:\n",
    "        response = openai.ChatCompletion.create(\n",
    "            model=\"gpt-4\",\n",
    "            messages=[\n",
    "                {\"role\": \"system\", \"content\": \"당신은 문서를 분석하여 적절한 주제를 할당하는 어시스턴트입니다. 가능한 주제는 '주거', '취업', '문화활동', '금융'입니다. 각 문서를 분석하여 가장 관련이 높은 주제를 선택하세요.\"},\n",
    "                {\"role\": \"user\", \"content\": f\"다음 문서의 주제를 분석하고 적합한 주제를 반환하세요:\\n\\n{content}\"}\n",
    "            ]\n",
    "        )\n",
    "        label = response.choices[0].message.content.strip()\n",
    "        return label\n",
    "    except Exception as e:\n",
    "        print(f\"라벨링 실패: {e}\")\n",
    "        return \"기타\"  # 실패 시 기본 라벨\n",
    "\n",
    "# 파일 내용을 읽어 데이터베이스에 추가\n",
    "for idx, txt_file in enumerate(txt_files):\n",
    "    file_path = os.path.join('/content', txt_file)\n",
    "    with open(file_path, 'r', encoding='utf-8') as f:\n",
    "        content = f.read().strip()  # 파일 내용 읽기\n",
    "        if content:  # 내용이 있는 경우만 처리\n",
    "            # 라벨링\n",
    "            label = label_document(content)\n",
    "            print(f\"파일 '{txt_file}'에 대한 라벨: {label}\")\n",
    "            \n",
    "            # 임베딩 및 데이터 저장\n",
    "            embedding = model.encode([content])[0]\n",
    "            collection.add(\n",
    "                documents=[content],\n",
    "                embeddings=[embedding],\n",
    "                metadatas=[{\"label\": label}],\n",
    "                ids=[f\"doc_{idx+1}\"]\n",
    "            )\n",
    "            print(f\"파일 '{txt_file}'의 내용을 저장했습니다.\")\n",
    "\n",
    "print(\"모든 파일의 데이터 저장이 완료되었습니다.\")"
   ]
  }
 ],
 "metadata": {
  "language_info": {
   "name": "python"
  }
 },
 "nbformat": 4,
 "nbformat_minor": 2
}
