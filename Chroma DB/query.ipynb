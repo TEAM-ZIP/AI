{
 "cells": [
  {
   "cell_type": "code",
   "execution_count": null,
   "metadata": {
    "vscode": {
     "languageId": "plaintext"
    }
   },
   "outputs": [],
   "source": [
    "from sentence_transformers import SentenceTransformer\n",
    "import chromadb\n",
    "import openai\n",
    "import os\n",
    "from dotenv import load_dotenv\n",
    "\n",
    "load_dotenv()\n",
    "api_key = os.getenv(\"OPENAI_API_KEY\")\n",
    "openai.api_key = api_key\n",
    "\n",
    "# ChromaDB 및 모델 초기화\n",
    "model = SentenceTransformer('all-MiniLM-L6-v2')\n",
    "client = chromadb.PersistentClient()\n",
    "\n",
    "\n",
    "# 기존 컬렉션 로드 또는 생성\n",
    "if \"crawled_data\" not in [col.name for col in client.list_collections()]:\n",
    "    collection = client.create_collection(name=\"crawled_data\")\n",
    "else:\n",
    "    collection = client.get_collection(name=\"crawled_data\")\n",
    "\n",
    "# 쿼리 함수 정의\n",
    "def query_rag(query_text):\n",
    "    # 쿼리 임베딩 생성\n",
    "    query_embedding = model.encode([query_text])[0]\n",
    "    \n",
    "    # 벡터 검색\n",
    "    search_results = collection.query(\n",
    "        query_embeddings=[query_embedding],\n",
    "        n_results=4,\n",
    "        include=[\"documents\"]\n",
    "    )\n",
    "    \n",
    "     # 검색된 문서 리스트 가져오기\n",
    "    retrieved_docs = search_results['documents'][0] if search_results['documents'] else []\n",
    "    if not retrieved_docs:\n",
    "        return \"관련 문서를 찾을 수 없습니다.\"\n",
    "    \n",
    "    # LLM을 통한 최종 응답 생성\n",
    "    context = \"\\n\".join(retrieved_docs)  # 문서들 연결\n",
    "    response = openai.chat.completions.create(\n",
    "        messages=[\n",
    "            {\"role\": \"system\", \"content\": \"당신은 문서 정보를 기반으로 주로 자립준비청년들의 질문에 답변하는 어시스턴트입니다.\"},\n",
    "            {\"role\": \"user\", \"content\": f\"다음 정보들을 바탕으로 '{query_text}'에 대한 응답을 생성하세요:\\n\\n{context}\\n\\n답변:\"}\n",
    "        ],\n",
    "        model=\"gpt-4o\",  # 최신 모델 지정\n",
    "    )\n",
    "    \n",
    "    return response.choices[0].message.content;\n",
    "\n",
    "# 예시 쿼리\n",
    "result = query_rag(\"난 집에만 있는데... 나도 다시 사람들을 만나고 싶어. 뭐 좋은 프로그램이 없을까?\")\n",
    "print(result)"
   ]
  },
  {
   "cell_type": "markdown",
   "metadata": {},
   "source": [
    "### 만약 실행 안되시면  embedding.ipynb파일에 복붙해서 함 실행해보세요!!"
   ]
  }
 ],
 "metadata": {
  "language_info": {
   "name": "python"
  }
 },
 "nbformat": 4,
 "nbformat_minor": 2
}
