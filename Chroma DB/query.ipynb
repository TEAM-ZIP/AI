{
 "cells": [
  {
   "cell_type": "code",
   "execution_count": null,
   "metadata": {
    "vscode": {
     "languageId": "plaintext"
    }
   },
   "outputs": [],
   "source": [
    "from sentence_transformers import SentenceTransformer\n",
    "import chromadb\n",
    "import openai\n",
    "\n",
    "openai.api_key = \"YOUR_API_KEY\"  # 실제 API 키로 대체\n",
    "\n",
    "# 쿼리 함수 정의\n",
    "def query_rag(query_text):\n",
    "    # 쿼리 임베딩 생성\n",
    "    query_embedding = model.encode([query_text])[0]\n",
    "    \n",
    "    # 벡터 검색\n",
    "    search_results = collection.query(\n",
    "        query_embeddings=[query_embedding],\n",
    "        n_results=4,\n",
    "        include=[\"documents\"]\n",
    "    )\n",
    "    \n",
    "    # 검색된 문서 리스트 가져오기\n",
    "    retrieved_docs = [doc for doc in search_results['documents'][0]]\n",
    "    \n",
    "    # LLM을 통한 최종 응답 생성\n",
    "    context = \"\\n\".join(retrieved_docs)  # 문서들 연결\n",
    "    response = openai.ChatCompletion.create(\n",
    "        model=\"gpt-4o\",  # 최신 모델 지정\n",
    "        messages=[\n",
    "            {\"role\": \"system\", \"content\": \"당신은 문서 정보를 기반으로 주로 자립준비청년들의 질문에 답변하는 어시스턴트입니다.\"},\n",
    "            {\"role\": \"user\", \"content\": f\"다음 정보들을 바탕으로 '{query_text}'에 대한 응답을 생성하세요:\\n\\n{context}\\n\\n답변:\"}\n",
    "        ]\n",
    "    )\n",
    "    \n",
    "    return response.choices[0].message.content.strip()\n",
    "\n",
    "# 예시 쿼리\n",
    "result = query_rag(\"난 집에만 있는데... 나도 다시 사람들을 만나고 싶어. 뭐 좋은 프로그램이 없을까?\")\n",
    "print(result)"
   ]
  }
 ],
 "metadata": {
  "language_info": {
   "name": "python"
  }
 },
 "nbformat": 4,
 "nbformat_minor": 2
}
